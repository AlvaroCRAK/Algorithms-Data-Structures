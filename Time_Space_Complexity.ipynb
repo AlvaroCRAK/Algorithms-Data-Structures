{
  "nbformat": 4,
  "nbformat_minor": 0,
  "metadata": {
    "colab": {
      "provenance": []
    },
    "kernelspec": {
      "name": "python3",
      "display_name": "Python 3"
    },
    "language_info": {
      "name": "python"
    }
  },
  "cells": [
    {
      "cell_type": "code",
      "execution_count": 1,
      "metadata": {
        "colab": {
          "base_uri": "https://localhost:8080/"
        },
        "id": "NCean00l1wzb",
        "outputId": "7e85c384-0b13-4a4c-b170-33ba1c09c153"
      },
      "outputs": [
        {
          "output_type": "stream",
          "name": "stdout",
          "text": [
            "50000\n",
            "CPU times: user 19.1 ms, sys: 3.04 ms, total: 22.2 ms\n",
            "Wall time: 22.4 ms\n"
          ]
        }
      ],
      "source": [
        "%%time\n",
        "\n",
        "n = 50000\n",
        "numbers = [i+1 for i in range(n) ]\n",
        "\n",
        "counter = 0\n",
        "\n",
        "for i in range(n):\n",
        "    x = 1\n",
        "\n",
        "    if x in numbers:\n",
        "        counter += 1\n",
        "\n",
        "print(counter)\n"
      ]
    },
    {
      "cell_type": "code",
      "source": [
        "%%time\n",
        "\n",
        "n = 50000\n",
        "numbers = [i+1 for i in range(n) ]\n",
        "\n",
        "counter = 0\n",
        "\n",
        "for i in range(n):\n",
        "    x = n\n",
        "\n",
        "    if x in numbers:\n",
        "        counter += 1\n",
        "\n",
        "print(counter)\n"
      ],
      "metadata": {
        "colab": {
          "base_uri": "https://localhost:8080/"
        },
        "id": "B-7O24GM2zKY",
        "outputId": "153ca3f7-1665-4c01-8f6d-3fbee7e8f854"
      },
      "execution_count": 2,
      "outputs": [
        {
          "output_type": "stream",
          "name": "stdout",
          "text": [
            "50000\n",
            "CPU times: user 35.2 s, sys: 306 ms, total: 35.5 s\n",
            "Wall time: 38.2 s\n"
          ]
        }
      ]
    }
  ]
}